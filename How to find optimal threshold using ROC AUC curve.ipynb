{
 "cells": [
  {
   "cell_type": "code",
   "execution_count": 1,
   "metadata": {},
   "outputs": [],
   "source": [
    "import numpy as np\n",
    "import pandas as pd\n",
    "import matplotlib.pyplot as plt\n",
    "%matplotlib inline"
   ]
  },
  {
   "cell_type": "code",
   "execution_count": 2,
   "metadata": {},
   "outputs": [],
   "source": [
    "import seaborn as sns\n",
    "from sklearn.datasets import make_classification"
   ]
  },
  {
   "cell_type": "code",
   "execution_count": 3,
   "metadata": {},
   "outputs": [],
   "source": [
    "from sklearn.model_selection import train_test_split\n",
    "X,y = make_classification(n_samples=2000,n_classes=2,weights=[1,1],random_state=1)"
   ]
  },
  {
   "cell_type": "code",
   "execution_count": 4,
   "metadata": {},
   "outputs": [
    {
     "data": {
      "text/plain": [
       "(2000, 20)"
      ]
     },
     "execution_count": 4,
     "metadata": {},
     "output_type": "execute_result"
    }
   ],
   "source": [
    "X.shape"
   ]
  },
  {
   "cell_type": "code",
   "execution_count": 6,
   "metadata": {},
   "outputs": [
    {
     "data": {
      "text/plain": [
       "array([0, 0, 0, ..., 1, 1, 0])"
      ]
     },
     "execution_count": 6,
     "metadata": {},
     "output_type": "execute_result"
    }
   ],
   "source": [
    "y"
   ]
  },
  {
   "cell_type": "code",
   "execution_count": 7,
   "metadata": {},
   "outputs": [],
   "source": [
    "X_train,X_test,y_train,y_test = train_test_split(X, y, test_size=0.3, random_state=1)"
   ]
  },
  {
   "cell_type": "code",
   "execution_count": 8,
   "metadata": {},
   "outputs": [],
   "source": [
    "from sklearn.metrics import roc_curve\n",
    "from sklearn.metrics import roc_auc_score"
   ]
  },
  {
   "cell_type": "markdown",
   "metadata": {},
   "source": [
    "### 1. Random Forest Classifier"
   ]
  },
  {
   "cell_type": "code",
   "execution_count": 10,
   "metadata": {},
   "outputs": [
    {
     "name": "stdout",
     "output_type": "stream",
     "text": [
      "RF train ROC_AUC:0.9999530603623332\n",
      "RF model test ROC_AUC:0.9789833333333333\n"
     ]
    },
    {
     "name": "stderr",
     "output_type": "stream",
     "text": [
      "C:\\Users\\Venkata Kiran\\Anaconda3\\lib\\site-packages\\sklearn\\ensemble\\forest.py:245: FutureWarning: The default value of n_estimators will change from 10 in version 0.20 to 100 in 0.22.\n",
      "  \"10 in version 0.20 to 100 in 0.22.\", FutureWarning)\n"
     ]
    }
   ],
   "source": [
    "from sklearn.ensemble import RandomForestClassifier\n",
    "rf_model = RandomForestClassifier()\n",
    "rf_model.fit(X_train,y_train)\n",
    "y_train_pred = rf_model.predict_proba(X_train)\n",
    "print(\"RF train ROC_AUC:{}\".format(roc_auc_score(y_train, y_train_pred[:,1])))\n",
    "y_test_pred =rf_model.predict_proba(X_test)\n",
    "print(\"RF model test ROC_AUC:{}\".format(roc_auc_score(y_test,y_test_pred[:,1])))"
   ]
  },
  {
   "cell_type": "markdown",
   "metadata": {},
   "source": [
    "### 2. Logistic Regression"
   ]
  },
  {
   "cell_type": "code",
   "execution_count": 12,
   "metadata": {},
   "outputs": [
    {
     "name": "stdout",
     "output_type": "stream",
     "text": [
      "Logistic train ROC_AUC:0.9863589331232614\n",
      "Logictic test ROC_AUC:0.9885777777777777\n"
     ]
    },
    {
     "name": "stderr",
     "output_type": "stream",
     "text": [
      "C:\\Users\\Venkata Kiran\\Anaconda3\\lib\\site-packages\\sklearn\\linear_model\\logistic.py:432: FutureWarning: Default solver will be changed to 'lbfgs' in 0.22. Specify a solver to silence this warning.\n",
      "  FutureWarning)\n"
     ]
    }
   ],
   "source": [
    "from sklearn.linear_model import LogisticRegression\n",
    "log_classifier = LogisticRegression()\n",
    "log_classifier.fit(X_train,y_train)\n",
    "y_train_pred = log_classifier.predict_proba(X_train)\n",
    "print(\"Logistic train ROC_AUC:{}\".format(roc_auc_score(y_train,y_train_pred[:,1])))\n",
    "y_test_pred = log_classifier.predict_proba(X_test)\n",
    "print(\"Logictic test ROC_AUC:{}\".format(roc_auc_score(y_test,y_test_pred[:,1])))"
   ]
  },
  {
   "cell_type": "markdown",
   "metadata": {},
   "source": [
    "### 3. Adaboost Classifier"
   ]
  },
  {
   "cell_type": "code",
   "execution_count": 13,
   "metadata": {},
   "outputs": [
    {
     "name": "stdout",
     "output_type": "stream",
     "text": [
      "Adaboost train roc-auc: 0.9975081174960356\n",
      "Adaboost test roc-auc: 0.9826111111111111\n"
     ]
    }
   ],
   "source": [
    "from sklearn.ensemble import AdaBoostClassifier\n",
    "ada_classifier=AdaBoostClassifier()\n",
    "ada_classifier.fit(X_train, y_train)\n",
    "ytrain_pred = ada_classifier.predict_proba(X_train)\n",
    "print('Adaboost train roc-auc: {}'.format(roc_auc_score(y_train, ytrain_pred[:,1])))\n",
    "ytest_pred = ada_classifier.predict_proba(X_test)\n",
    "print('Adaboost test roc-auc: {}'.format(roc_auc_score(y_test, ytest_pred[:,1])))"
   ]
  },
  {
   "cell_type": "markdown",
   "metadata": {},
   "source": [
    "### 4. KNN Classifier"
   ]
  },
  {
   "cell_type": "code",
   "execution_count": 16,
   "metadata": {},
   "outputs": [
    {
     "name": "stdout",
     "output_type": "stream",
     "text": [
      "KNN train ROC_AUC:0.981670071491109\n",
      "KNN test ROC_AUC:0.9426111111111111\n"
     ]
    }
   ],
   "source": [
    "from sklearn.neighbors import KNeighborsClassifier\n",
    "knn_classifier = KNeighborsClassifier()\n",
    "knn_classifier.fit(X_train,y_train)\n",
    "y_train_pred = knn_classifier.predict_proba(X_train)\n",
    "print(\"KNN train ROC_AUC:{}\".format(roc_auc_score(y_train,y_train_pred[:,1])))\n",
    "y_test_pred = knn_classifier.predict_proba(X_test)\n",
    "print(\"KNN test ROC_AUC:{}\".format(roc_auc_score(y_test,y_test_pred[:,1])))"
   ]
  },
  {
   "cell_type": "markdown",
   "metadata": {},
   "source": [
    "### Now we will focus on selecting the best threshold for maximum accuracy\n"
   ]
  },
  {
   "cell_type": "code",
   "execution_count": 22,
   "metadata": {},
   "outputs": [
    {
     "name": "stdout",
     "output_type": "stream",
     "text": [
      "Ensemble test roc-auc: 0.9848777777777779\n"
     ]
    }
   ],
   "source": [
    "pred=[]\n",
    "for model in [rf_model,log_classifier,ada_classifier,knn_classifier]:\n",
    "    pred.append(pd.Series(model.predict_proba(X_test)[:,1]))\n",
    "final_prediction=pd.concat(pred,axis=1).mean(axis=1)\n",
    "print('Ensemble test roc-auc: {}'.format(roc_auc_score(y_test,final_prediction)))"
   ]
  },
  {
   "cell_type": "code",
   "execution_count": 23,
   "metadata": {},
   "outputs": [
    {
     "data": {
      "text/html": [
       "<div>\n",
       "<style scoped>\n",
       "    .dataframe tbody tr th:only-of-type {\n",
       "        vertical-align: middle;\n",
       "    }\n",
       "\n",
       "    .dataframe tbody tr th {\n",
       "        vertical-align: top;\n",
       "    }\n",
       "\n",
       "    .dataframe thead th {\n",
       "        text-align: right;\n",
       "    }\n",
       "</style>\n",
       "<table border=\"1\" class=\"dataframe\">\n",
       "  <thead>\n",
       "    <tr style=\"text-align: right;\">\n",
       "      <th></th>\n",
       "      <th>0</th>\n",
       "      <th>1</th>\n",
       "      <th>2</th>\n",
       "      <th>3</th>\n",
       "    </tr>\n",
       "  </thead>\n",
       "  <tbody>\n",
       "    <tr>\n",
       "      <th>0</th>\n",
       "      <td>1.0</td>\n",
       "      <td>0.991869</td>\n",
       "      <td>0.559186</td>\n",
       "      <td>1.0</td>\n",
       "    </tr>\n",
       "    <tr>\n",
       "      <th>1</th>\n",
       "      <td>0.0</td>\n",
       "      <td>0.000008</td>\n",
       "      <td>0.463282</td>\n",
       "      <td>0.0</td>\n",
       "    </tr>\n",
       "    <tr>\n",
       "      <th>2</th>\n",
       "      <td>0.9</td>\n",
       "      <td>0.966761</td>\n",
       "      <td>0.538202</td>\n",
       "      <td>0.8</td>\n",
       "    </tr>\n",
       "    <tr>\n",
       "      <th>3</th>\n",
       "      <td>0.9</td>\n",
       "      <td>0.761461</td>\n",
       "      <td>0.509875</td>\n",
       "      <td>0.8</td>\n",
       "    </tr>\n",
       "    <tr>\n",
       "      <th>4</th>\n",
       "      <td>0.3</td>\n",
       "      <td>0.777991</td>\n",
       "      <td>0.490344</td>\n",
       "      <td>0.4</td>\n",
       "    </tr>\n",
       "    <tr>\n",
       "      <th>5</th>\n",
       "      <td>0.3</td>\n",
       "      <td>0.542391</td>\n",
       "      <td>0.492548</td>\n",
       "      <td>0.6</td>\n",
       "    </tr>\n",
       "    <tr>\n",
       "      <th>6</th>\n",
       "      <td>0.9</td>\n",
       "      <td>0.977743</td>\n",
       "      <td>0.537171</td>\n",
       "      <td>1.0</td>\n",
       "    </tr>\n",
       "    <tr>\n",
       "      <th>7</th>\n",
       "      <td>1.0</td>\n",
       "      <td>0.960890</td>\n",
       "      <td>0.552570</td>\n",
       "      <td>0.8</td>\n",
       "    </tr>\n",
       "    <tr>\n",
       "      <th>8</th>\n",
       "      <td>1.0</td>\n",
       "      <td>0.993595</td>\n",
       "      <td>0.537610</td>\n",
       "      <td>1.0</td>\n",
       "    </tr>\n",
       "    <tr>\n",
       "      <th>9</th>\n",
       "      <td>0.8</td>\n",
       "      <td>0.504627</td>\n",
       "      <td>0.510507</td>\n",
       "      <td>0.6</td>\n",
       "    </tr>\n",
       "    <tr>\n",
       "      <th>10</th>\n",
       "      <td>0.7</td>\n",
       "      <td>0.862914</td>\n",
       "      <td>0.512212</td>\n",
       "      <td>0.6</td>\n",
       "    </tr>\n",
       "    <tr>\n",
       "      <th>11</th>\n",
       "      <td>0.8</td>\n",
       "      <td>0.819504</td>\n",
       "      <td>0.516065</td>\n",
       "      <td>0.6</td>\n",
       "    </tr>\n",
       "    <tr>\n",
       "      <th>12</th>\n",
       "      <td>0.0</td>\n",
       "      <td>0.081177</td>\n",
       "      <td>0.482698</td>\n",
       "      <td>0.2</td>\n",
       "    </tr>\n",
       "    <tr>\n",
       "      <th>13</th>\n",
       "      <td>0.8</td>\n",
       "      <td>0.902238</td>\n",
       "      <td>0.522522</td>\n",
       "      <td>1.0</td>\n",
       "    </tr>\n",
       "    <tr>\n",
       "      <th>14</th>\n",
       "      <td>1.0</td>\n",
       "      <td>0.929623</td>\n",
       "      <td>0.540503</td>\n",
       "      <td>1.0</td>\n",
       "    </tr>\n",
       "    <tr>\n",
       "      <th>15</th>\n",
       "      <td>0.3</td>\n",
       "      <td>0.000100</td>\n",
       "      <td>0.471953</td>\n",
       "      <td>0.0</td>\n",
       "    </tr>\n",
       "    <tr>\n",
       "      <th>16</th>\n",
       "      <td>0.0</td>\n",
       "      <td>0.010402</td>\n",
       "      <td>0.449861</td>\n",
       "      <td>0.2</td>\n",
       "    </tr>\n",
       "    <tr>\n",
       "      <th>17</th>\n",
       "      <td>0.0</td>\n",
       "      <td>0.008374</td>\n",
       "      <td>0.461462</td>\n",
       "      <td>0.0</td>\n",
       "    </tr>\n",
       "    <tr>\n",
       "      <th>18</th>\n",
       "      <td>0.0</td>\n",
       "      <td>0.000172</td>\n",
       "      <td>0.452186</td>\n",
       "      <td>0.0</td>\n",
       "    </tr>\n",
       "    <tr>\n",
       "      <th>19</th>\n",
       "      <td>0.0</td>\n",
       "      <td>0.000379</td>\n",
       "      <td>0.472297</td>\n",
       "      <td>0.0</td>\n",
       "    </tr>\n",
       "    <tr>\n",
       "      <th>20</th>\n",
       "      <td>0.9</td>\n",
       "      <td>0.997151</td>\n",
       "      <td>0.580102</td>\n",
       "      <td>1.0</td>\n",
       "    </tr>\n",
       "    <tr>\n",
       "      <th>21</th>\n",
       "      <td>0.3</td>\n",
       "      <td>0.572047</td>\n",
       "      <td>0.502760</td>\n",
       "      <td>0.6</td>\n",
       "    </tr>\n",
       "    <tr>\n",
       "      <th>22</th>\n",
       "      <td>0.6</td>\n",
       "      <td>0.959394</td>\n",
       "      <td>0.529753</td>\n",
       "      <td>0.8</td>\n",
       "    </tr>\n",
       "    <tr>\n",
       "      <th>23</th>\n",
       "      <td>1.0</td>\n",
       "      <td>0.916016</td>\n",
       "      <td>0.525194</td>\n",
       "      <td>0.8</td>\n",
       "    </tr>\n",
       "    <tr>\n",
       "      <th>24</th>\n",
       "      <td>0.0</td>\n",
       "      <td>0.000899</td>\n",
       "      <td>0.468808</td>\n",
       "      <td>0.0</td>\n",
       "    </tr>\n",
       "    <tr>\n",
       "      <th>25</th>\n",
       "      <td>1.0</td>\n",
       "      <td>0.988583</td>\n",
       "      <td>0.536384</td>\n",
       "      <td>0.8</td>\n",
       "    </tr>\n",
       "    <tr>\n",
       "      <th>26</th>\n",
       "      <td>0.0</td>\n",
       "      <td>0.003391</td>\n",
       "      <td>0.472655</td>\n",
       "      <td>0.0</td>\n",
       "    </tr>\n",
       "    <tr>\n",
       "      <th>27</th>\n",
       "      <td>0.9</td>\n",
       "      <td>0.915291</td>\n",
       "      <td>0.516544</td>\n",
       "      <td>0.6</td>\n",
       "    </tr>\n",
       "    <tr>\n",
       "      <th>28</th>\n",
       "      <td>0.7</td>\n",
       "      <td>0.993991</td>\n",
       "      <td>0.465189</td>\n",
       "      <td>0.8</td>\n",
       "    </tr>\n",
       "    <tr>\n",
       "      <th>29</th>\n",
       "      <td>0.1</td>\n",
       "      <td>0.172767</td>\n",
       "      <td>0.487888</td>\n",
       "      <td>0.8</td>\n",
       "    </tr>\n",
       "    <tr>\n",
       "      <th>...</th>\n",
       "      <td>...</td>\n",
       "      <td>...</td>\n",
       "      <td>...</td>\n",
       "      <td>...</td>\n",
       "    </tr>\n",
       "    <tr>\n",
       "      <th>570</th>\n",
       "      <td>1.0</td>\n",
       "      <td>0.988904</td>\n",
       "      <td>0.560456</td>\n",
       "      <td>1.0</td>\n",
       "    </tr>\n",
       "    <tr>\n",
       "      <th>571</th>\n",
       "      <td>0.0</td>\n",
       "      <td>0.000049</td>\n",
       "      <td>0.484082</td>\n",
       "      <td>0.0</td>\n",
       "    </tr>\n",
       "    <tr>\n",
       "      <th>572</th>\n",
       "      <td>1.0</td>\n",
       "      <td>0.935566</td>\n",
       "      <td>0.526470</td>\n",
       "      <td>0.6</td>\n",
       "    </tr>\n",
       "    <tr>\n",
       "      <th>573</th>\n",
       "      <td>0.1</td>\n",
       "      <td>0.095836</td>\n",
       "      <td>0.488249</td>\n",
       "      <td>0.6</td>\n",
       "    </tr>\n",
       "    <tr>\n",
       "      <th>574</th>\n",
       "      <td>0.0</td>\n",
       "      <td>0.004869</td>\n",
       "      <td>0.436986</td>\n",
       "      <td>0.0</td>\n",
       "    </tr>\n",
       "    <tr>\n",
       "      <th>575</th>\n",
       "      <td>0.8</td>\n",
       "      <td>0.988203</td>\n",
       "      <td>0.537301</td>\n",
       "      <td>0.8</td>\n",
       "    </tr>\n",
       "    <tr>\n",
       "      <th>576</th>\n",
       "      <td>0.2</td>\n",
       "      <td>0.063845</td>\n",
       "      <td>0.472420</td>\n",
       "      <td>0.2</td>\n",
       "    </tr>\n",
       "    <tr>\n",
       "      <th>577</th>\n",
       "      <td>0.1</td>\n",
       "      <td>0.000003</td>\n",
       "      <td>0.462387</td>\n",
       "      <td>0.0</td>\n",
       "    </tr>\n",
       "    <tr>\n",
       "      <th>578</th>\n",
       "      <td>0.1</td>\n",
       "      <td>0.178724</td>\n",
       "      <td>0.481436</td>\n",
       "      <td>0.8</td>\n",
       "    </tr>\n",
       "    <tr>\n",
       "      <th>579</th>\n",
       "      <td>0.0</td>\n",
       "      <td>0.000014</td>\n",
       "      <td>0.456487</td>\n",
       "      <td>0.0</td>\n",
       "    </tr>\n",
       "    <tr>\n",
       "      <th>580</th>\n",
       "      <td>0.4</td>\n",
       "      <td>0.502352</td>\n",
       "      <td>0.488149</td>\n",
       "      <td>0.8</td>\n",
       "    </tr>\n",
       "    <tr>\n",
       "      <th>581</th>\n",
       "      <td>0.1</td>\n",
       "      <td>0.014143</td>\n",
       "      <td>0.460077</td>\n",
       "      <td>0.2</td>\n",
       "    </tr>\n",
       "    <tr>\n",
       "      <th>582</th>\n",
       "      <td>0.0</td>\n",
       "      <td>0.022494</td>\n",
       "      <td>0.462516</td>\n",
       "      <td>0.2</td>\n",
       "    </tr>\n",
       "    <tr>\n",
       "      <th>583</th>\n",
       "      <td>0.1</td>\n",
       "      <td>0.000690</td>\n",
       "      <td>0.460067</td>\n",
       "      <td>0.0</td>\n",
       "    </tr>\n",
       "    <tr>\n",
       "      <th>584</th>\n",
       "      <td>0.3</td>\n",
       "      <td>0.378726</td>\n",
       "      <td>0.472308</td>\n",
       "      <td>0.4</td>\n",
       "    </tr>\n",
       "    <tr>\n",
       "      <th>585</th>\n",
       "      <td>0.9</td>\n",
       "      <td>0.926450</td>\n",
       "      <td>0.530210</td>\n",
       "      <td>1.0</td>\n",
       "    </tr>\n",
       "    <tr>\n",
       "      <th>586</th>\n",
       "      <td>0.0</td>\n",
       "      <td>0.005068</td>\n",
       "      <td>0.453253</td>\n",
       "      <td>0.2</td>\n",
       "    </tr>\n",
       "    <tr>\n",
       "      <th>587</th>\n",
       "      <td>0.9</td>\n",
       "      <td>0.992216</td>\n",
       "      <td>0.641799</td>\n",
       "      <td>1.0</td>\n",
       "    </tr>\n",
       "    <tr>\n",
       "      <th>588</th>\n",
       "      <td>0.0</td>\n",
       "      <td>0.000077</td>\n",
       "      <td>0.458497</td>\n",
       "      <td>0.0</td>\n",
       "    </tr>\n",
       "    <tr>\n",
       "      <th>589</th>\n",
       "      <td>0.1</td>\n",
       "      <td>0.041898</td>\n",
       "      <td>0.476963</td>\n",
       "      <td>0.4</td>\n",
       "    </tr>\n",
       "    <tr>\n",
       "      <th>590</th>\n",
       "      <td>0.6</td>\n",
       "      <td>0.432165</td>\n",
       "      <td>0.502398</td>\n",
       "      <td>0.8</td>\n",
       "    </tr>\n",
       "    <tr>\n",
       "      <th>591</th>\n",
       "      <td>0.1</td>\n",
       "      <td>0.002393</td>\n",
       "      <td>0.464514</td>\n",
       "      <td>0.2</td>\n",
       "    </tr>\n",
       "    <tr>\n",
       "      <th>592</th>\n",
       "      <td>0.0</td>\n",
       "      <td>0.001025</td>\n",
       "      <td>0.443043</td>\n",
       "      <td>0.0</td>\n",
       "    </tr>\n",
       "    <tr>\n",
       "      <th>593</th>\n",
       "      <td>0.0</td>\n",
       "      <td>0.005854</td>\n",
       "      <td>0.458305</td>\n",
       "      <td>0.4</td>\n",
       "    </tr>\n",
       "    <tr>\n",
       "      <th>594</th>\n",
       "      <td>0.0</td>\n",
       "      <td>0.000787</td>\n",
       "      <td>0.467070</td>\n",
       "      <td>0.0</td>\n",
       "    </tr>\n",
       "    <tr>\n",
       "      <th>595</th>\n",
       "      <td>0.0</td>\n",
       "      <td>0.024096</td>\n",
       "      <td>0.461121</td>\n",
       "      <td>0.0</td>\n",
       "    </tr>\n",
       "    <tr>\n",
       "      <th>596</th>\n",
       "      <td>0.0</td>\n",
       "      <td>0.000003</td>\n",
       "      <td>0.441377</td>\n",
       "      <td>0.0</td>\n",
       "    </tr>\n",
       "    <tr>\n",
       "      <th>597</th>\n",
       "      <td>1.0</td>\n",
       "      <td>0.984375</td>\n",
       "      <td>0.532403</td>\n",
       "      <td>1.0</td>\n",
       "    </tr>\n",
       "    <tr>\n",
       "      <th>598</th>\n",
       "      <td>0.0</td>\n",
       "      <td>0.001142</td>\n",
       "      <td>0.441720</td>\n",
       "      <td>0.2</td>\n",
       "    </tr>\n",
       "    <tr>\n",
       "      <th>599</th>\n",
       "      <td>1.0</td>\n",
       "      <td>0.989553</td>\n",
       "      <td>0.559890</td>\n",
       "      <td>0.8</td>\n",
       "    </tr>\n",
       "  </tbody>\n",
       "</table>\n",
       "<p>600 rows × 4 columns</p>\n",
       "</div>"
      ],
      "text/plain": [
       "       0         1         2    3\n",
       "0    1.0  0.991869  0.559186  1.0\n",
       "1    0.0  0.000008  0.463282  0.0\n",
       "2    0.9  0.966761  0.538202  0.8\n",
       "3    0.9  0.761461  0.509875  0.8\n",
       "4    0.3  0.777991  0.490344  0.4\n",
       "5    0.3  0.542391  0.492548  0.6\n",
       "6    0.9  0.977743  0.537171  1.0\n",
       "7    1.0  0.960890  0.552570  0.8\n",
       "8    1.0  0.993595  0.537610  1.0\n",
       "9    0.8  0.504627  0.510507  0.6\n",
       "10   0.7  0.862914  0.512212  0.6\n",
       "11   0.8  0.819504  0.516065  0.6\n",
       "12   0.0  0.081177  0.482698  0.2\n",
       "13   0.8  0.902238  0.522522  1.0\n",
       "14   1.0  0.929623  0.540503  1.0\n",
       "15   0.3  0.000100  0.471953  0.0\n",
       "16   0.0  0.010402  0.449861  0.2\n",
       "17   0.0  0.008374  0.461462  0.0\n",
       "18   0.0  0.000172  0.452186  0.0\n",
       "19   0.0  0.000379  0.472297  0.0\n",
       "20   0.9  0.997151  0.580102  1.0\n",
       "21   0.3  0.572047  0.502760  0.6\n",
       "22   0.6  0.959394  0.529753  0.8\n",
       "23   1.0  0.916016  0.525194  0.8\n",
       "24   0.0  0.000899  0.468808  0.0\n",
       "25   1.0  0.988583  0.536384  0.8\n",
       "26   0.0  0.003391  0.472655  0.0\n",
       "27   0.9  0.915291  0.516544  0.6\n",
       "28   0.7  0.993991  0.465189  0.8\n",
       "29   0.1  0.172767  0.487888  0.8\n",
       "..   ...       ...       ...  ...\n",
       "570  1.0  0.988904  0.560456  1.0\n",
       "571  0.0  0.000049  0.484082  0.0\n",
       "572  1.0  0.935566  0.526470  0.6\n",
       "573  0.1  0.095836  0.488249  0.6\n",
       "574  0.0  0.004869  0.436986  0.0\n",
       "575  0.8  0.988203  0.537301  0.8\n",
       "576  0.2  0.063845  0.472420  0.2\n",
       "577  0.1  0.000003  0.462387  0.0\n",
       "578  0.1  0.178724  0.481436  0.8\n",
       "579  0.0  0.000014  0.456487  0.0\n",
       "580  0.4  0.502352  0.488149  0.8\n",
       "581  0.1  0.014143  0.460077  0.2\n",
       "582  0.0  0.022494  0.462516  0.2\n",
       "583  0.1  0.000690  0.460067  0.0\n",
       "584  0.3  0.378726  0.472308  0.4\n",
       "585  0.9  0.926450  0.530210  1.0\n",
       "586  0.0  0.005068  0.453253  0.2\n",
       "587  0.9  0.992216  0.641799  1.0\n",
       "588  0.0  0.000077  0.458497  0.0\n",
       "589  0.1  0.041898  0.476963  0.4\n",
       "590  0.6  0.432165  0.502398  0.8\n",
       "591  0.1  0.002393  0.464514  0.2\n",
       "592  0.0  0.001025  0.443043  0.0\n",
       "593  0.0  0.005854  0.458305  0.4\n",
       "594  0.0  0.000787  0.467070  0.0\n",
       "595  0.0  0.024096  0.461121  0.0\n",
       "596  0.0  0.000003  0.441377  0.0\n",
       "597  1.0  0.984375  0.532403  1.0\n",
       "598  0.0  0.001142  0.441720  0.2\n",
       "599  1.0  0.989553  0.559890  0.8\n",
       "\n",
       "[600 rows x 4 columns]"
      ]
     },
     "execution_count": 23,
     "metadata": {},
     "output_type": "execute_result"
    }
   ],
   "source": [
    "pd.concat(pred,axis=1)\n"
   ]
  },
  {
   "cell_type": "code",
   "execution_count": 24,
   "metadata": {},
   "outputs": [
    {
     "data": {
      "text/plain": [
       "0      0.887764\n",
       "1      0.115823\n",
       "2      0.801241\n",
       "3      0.742834\n",
       "4      0.492084\n",
       "5      0.483735\n",
       "6      0.853729\n",
       "7      0.828365\n",
       "8      0.882801\n",
       "9      0.603783\n",
       "10     0.668781\n",
       "11     0.683892\n",
       "12     0.190969\n",
       "13     0.806190\n",
       "14     0.867532\n",
       "15     0.193013\n",
       "16     0.165066\n",
       "17     0.117459\n",
       "18     0.113089\n",
       "19     0.118169\n",
       "20     0.869313\n",
       "21     0.493702\n",
       "22     0.722287\n",
       "23     0.810303\n",
       "24     0.117427\n",
       "25     0.831242\n",
       "26     0.119011\n",
       "27     0.732959\n",
       "28     0.739795\n",
       "29     0.390164\n",
       "         ...   \n",
       "570    0.887340\n",
       "571    0.121033\n",
       "572    0.765509\n",
       "573    0.321021\n",
       "574    0.110464\n",
       "575    0.781376\n",
       "576    0.234066\n",
       "577    0.140598\n",
       "578    0.390040\n",
       "579    0.114125\n",
       "580    0.547625\n",
       "581    0.193555\n",
       "582    0.171253\n",
       "583    0.140189\n",
       "584    0.387759\n",
       "585    0.839165\n",
       "586    0.164580\n",
       "587    0.883504\n",
       "588    0.114644\n",
       "589    0.254715\n",
       "590    0.583641\n",
       "591    0.191727\n",
       "592    0.111017\n",
       "593    0.216040\n",
       "594    0.116964\n",
       "595    0.121304\n",
       "596    0.110345\n",
       "597    0.879195\n",
       "598    0.160715\n",
       "599    0.837361\n",
       "Length: 600, dtype: float64"
      ]
     },
     "execution_count": 24,
     "metadata": {},
     "output_type": "execute_result"
    }
   ],
   "source": [
    "final_prediction\n"
   ]
  },
  {
   "cell_type": "code",
   "execution_count": 25,
   "metadata": {},
   "outputs": [
    {
     "data": {
      "text/plain": [
       "array([1.91373217, 0.91373217, 0.91156638, 0.91077267, 0.80618993,\n",
       "       0.805555  , 0.79701186, 0.79320261, 0.7909021 , 0.78782624,\n",
       "       0.73875837, 0.73849235, 0.67085994, 0.6687815 , 0.65256224,\n",
       "       0.65218131, 0.64289021, 0.63380786, 0.60378347, 0.58201661,\n",
       "       0.55323121, 0.54762509, 0.53473191, 0.51722851, 0.50375922,\n",
       "       0.49370183, 0.4690538 , 0.40464882, 0.39646096, 0.3848282 ,\n",
       "       0.38342204, 0.34286464, 0.33553337, 0.27287525, 0.27112022,\n",
       "       0.24660309, 0.24315777, 0.19172692, 0.19096876, 0.11794908,\n",
       "       0.11783509, 0.10498954])"
      ]
     },
     "execution_count": 25,
     "metadata": {},
     "output_type": "execute_result"
    }
   ],
   "source": [
    "#### Calculate the ROc Curve\n",
    "\n",
    "\n",
    "fpr, tpr, thresholds = roc_curve(y_test, final_prediction)\n",
    "thresholds"
   ]
  },
  {
   "cell_type": "code",
   "execution_count": 27,
   "metadata": {},
   "outputs": [
    {
     "data": {
      "text/plain": [
       "array([0.        , 0.00333333, 0.02333333, 0.02333333, 0.60333333,\n",
       "       0.60333333, 0.64333333, 0.64333333, 0.65      , 0.65      ,\n",
       "       0.80333333, 0.80333333, 0.89      , 0.89      , 0.89666667,\n",
       "       0.89666667, 0.91333333, 0.91333333, 0.92666667, 0.92666667,\n",
       "       0.95666667, 0.95666667, 0.96      , 0.96      , 0.96333333,\n",
       "       0.96333333, 0.97666667, 0.97666667, 0.98      , 0.98      ,\n",
       "       0.98333333, 0.98333333, 0.98666667, 0.98666667, 0.99      ,\n",
       "       0.99      , 0.99333333, 0.99333333, 0.99666667, 0.99666667,\n",
       "       1.        , 1.        ])"
      ]
     },
     "execution_count": 27,
     "metadata": {},
     "output_type": "execute_result"
    }
   ],
   "source": [
    "tpr"
   ]
  },
  {
   "cell_type": "code",
   "execution_count": 33,
   "metadata": {},
   "outputs": [
    {
     "data": {
      "text/html": [
       "<div>\n",
       "<style scoped>\n",
       "    .dataframe tbody tr th:only-of-type {\n",
       "        vertical-align: middle;\n",
       "    }\n",
       "\n",
       "    .dataframe tbody tr th {\n",
       "        vertical-align: top;\n",
       "    }\n",
       "\n",
       "    .dataframe thead th {\n",
       "        text-align: right;\n",
       "    }\n",
       "</style>\n",
       "<table border=\"1\" class=\"dataframe\">\n",
       "  <thead>\n",
       "    <tr style=\"text-align: right;\">\n",
       "      <th></th>\n",
       "      <th>Thresholds</th>\n",
       "      <th>Accuracy</th>\n",
       "    </tr>\n",
       "  </thead>\n",
       "  <tbody>\n",
       "    <tr>\n",
       "      <th>21</th>\n",
       "      <td>0.547625</td>\n",
       "      <td>0.960000</td>\n",
       "    </tr>\n",
       "    <tr>\n",
       "      <th>26</th>\n",
       "      <td>0.469054</td>\n",
       "      <td>0.960000</td>\n",
       "    </tr>\n",
       "    <tr>\n",
       "      <th>22</th>\n",
       "      <td>0.534732</td>\n",
       "      <td>0.958333</td>\n",
       "    </tr>\n",
       "    <tr>\n",
       "      <th>20</th>\n",
       "      <td>0.553231</td>\n",
       "      <td>0.958333</td>\n",
       "    </tr>\n",
       "    <tr>\n",
       "      <th>27</th>\n",
       "      <td>0.404649</td>\n",
       "      <td>0.956667</td>\n",
       "    </tr>\n",
       "  </tbody>\n",
       "</table>\n",
       "</div>"
      ],
      "text/plain": [
       "    Thresholds  Accuracy\n",
       "21    0.547625  0.960000\n",
       "26    0.469054  0.960000\n",
       "22    0.534732  0.958333\n",
       "20    0.553231  0.958333\n",
       "27    0.404649  0.956667"
      ]
     },
     "execution_count": 33,
     "metadata": {},
     "output_type": "execute_result"
    }
   ],
   "source": [
    "from sklearn.metrics import accuracy_score\n",
    "accuracy_ = []\n",
    "for thr in thresholds:\n",
    "    y_pred = np.where(final_prediction>thr,1,0)\n",
    "    accuracy_.append(accuracy_score(y_test,y_pred,normalize = True))\n",
    "accuracy_ = pd.concat([pd.Series(thresholds), pd.Series(accuracy_)], axis=1)\n",
    "accuracy_.columns = [\"Thresholds\",\"Accuracy\"]\n",
    "accuracy_.sort_values(by=\"Accuracy\",ascending=False,inplace=True)\n",
    "accuracy_.head()"
   ]
  },
  {
   "cell_type": "code",
   "execution_count": 34,
   "metadata": {},
   "outputs": [],
   "source": [
    "def plot_roc_curve(fpr, tpr):\n",
    "    plt.plot(fpr, tpr, color='orange', label='ROC')\n",
    "    plt.plot([0, 1], [0, 1], color='darkblue', linestyle='--')\n",
    "    plt.xlabel('False Positive Rate')\n",
    "    plt.ylabel('True Positive Rate')\n",
    "    plt.title('Receiver Operating Characteristic (ROC) Curve')\n",
    "    plt.legend()\n",
    "    plt.show()"
   ]
  },
  {
   "cell_type": "code",
   "execution_count": 35,
   "metadata": {},
   "outputs": [
    {
     "data": {
      "image/png": "[encoded data removed]",
      "text/plain": [
       "<Figure size 432x288 with 1 Axes>"
      ]
     },
     "metadata": {
      "needs_background": "light"
     },
     "output_type": "display_data"
    }
   ],
   "source": [
    "plot_roc_curve(fpr,tpr)\n"
   ]
  },
  {
   "cell_type": "code",
   "execution_count": null,
   "metadata": {},
   "outputs": [],
   "source": []
  }
 ],
 "metadata": {
  "kernelspec": {
   "display_name": "Python 3",
   "language": "python",
   "name": "python3"
  },
  "language_info": {
   "codemirror_mode": {
    "name": "ipython",
    "version": 3
   },
   "file_extension": ".py",
   "mimetype": "text/x-python",
   "name": "python",
   "nbconvert_exporter": "python",
   "pygments_lexer": "ipython3",
   "version": "3.7.3"
  }
 },
 "nbformat": 4,
 "nbformat_minor": 2
}
